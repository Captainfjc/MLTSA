{
  "cells": [
    {
      "cell_type": "markdown",
      "source": "# OpenMM MLTSA example",
      "metadata": {
        "pycharm": {
          "metadata": false,
          "name": "#%% md\n"
        }
      }
    },
    {
      "cell_type": "code",
      "execution_count": null,
      "outputs": [],
      "source": "from openmmtools import testsystems\nimport numpy as np \nimport mdtraj as md \nimport matplotlib.pyplot as plt \nimport pandas as pd \nimport seaborn as sns \nfrom simtk import openmm, unit\nfrom simtk.openmm import app\nfrom simtk.openmm.app import *\nfrom simtk.openmm import *\nfrom simtk.unit import *\nfrom sys import stdout\n\n",
      "metadata": {
        "pycharm": {
          "metadata": false,
          "name": "#%%\n"
        }
      }
    },
    {
      "cell_type": "code",
      "execution_count": null,
      "outputs": [],
      "source": "pdb \u003d PDBFile(\"topology_new.pdb\")\nmodeller \u003d Modeller(pdb.topology, pdb.positions)\n# ... Call some modelling functions here ...\nmodeller.addSolvent(forcefield)\nsystem \u003d forcefield.createSystem(modeller.topology, nonbondedMethod\u003dPME)\nintegrator \u003d LangevinIntegrator(300*kelvin, 1/picosecond, 0.002*picoseconds)\nsimulation \u003d Simulation(modeller.topology, system, integrator)\nsimulation.context.setPositions(modeller.positions)\n",
      "metadata": {
        "pycharm": {
          "metadata": false,
          "name": "#%%\n"
        }
      }
    },
    {
      "cell_type": "code",
      "execution_count": null,
      "outputs": [],
      "source": "%%time\nn_replicas \u003d 10\nreportInterval \u003d 1000\nfor n in range(n_replicas):\n    system \u003d forcefield.createSystem(modeller.topology, nonbondedMethod\u003dPME)\n    integrator \u003d LangevinIntegrator(300*kelvin, 1/picosecond, 0.002*picoseconds)\n    simulation \u003d Simulation(modeller.topology, system, integrator)\n    simulation.context.setPositions(modeller.positions)\n    simulation.minimizeEnergy()\n    simulation.reporters.append(md.reporters.HDF5Reporter(\u0027NaCl_R{}.h5\u0027.format(n), reportInterval, coordinates\u003dTrue, time\u003dTrue, cell\u003dTrue, potentialEnergy\u003dTrue, temperature\u003dTrue))\n    simulation.reporters.append(StateDataReporter(stdout, 100000, step\u003dTrue, potentialEnergy\u003dTrue, temperature\u003dTrue))\n    simulation.step(1000000)\n    del simulation\n    print(\"Simulation\", n, \" Finished\")",
      "metadata": {
        "pycharm": {
          "metadata": false,
          "name": "#%%\n"
        }
      }
    }
  ],
  "metadata": {
    "language_info": {
      "codemirror_mode": {
        "name": "ipython",
        "version": 2
      },
      "file_extension": ".py",
      "mimetype": "text/x-python",
      "name": "python",
      "nbconvert_exporter": "python",
      "pygments_lexer": "ipython2",
      "version": "2.7.6"
    },
    "kernelspec": {
      "name": "pycharm-926e1178",
      "language": "python",
      "display_name": "PyCharm (MLTSA)"
    },
    "stem_cell": {
      "cell_type": "raw",
      "source": "",
      "metadata": {
        "pycharm": {
          "metadata": false
        }
      }
    }
  },
  "nbformat": 4,
  "nbformat_minor": 0
}