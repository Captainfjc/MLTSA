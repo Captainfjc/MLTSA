{
 "cells": [
  {
   "cell_type": "markdown",
   "source": [
    "# Molecular Dynamics Analysis tool for MLTSA\n"
   ],
   "metadata": {
    "collapsed": false
   }
  },
  {
   "cell_type": "markdown",
   "source": [
    "MLTSA has a package called MD_DATA which contains different modules for Molecular Dyanmics trajectories analysis and labeling for classification of outcomes similar to the IN/OUT states of the ligand unbinding.\n"
   ],
   "metadata": {
    "collapsed": false
   }
  },
  {
   "cell_type": "code",
   "execution_count": null,
   "outputs": [],
   "source": [
    "import numpy as np\n",
    "import matplotlib.pyplot as plt\n",
    "import MLTSA_datasets\n",
    "\n",
    "\"\"\" Testing the labelling system \"\"\"\n",
    "dcd_path = [\"test.dcd\"] #list containing the dcd files\n",
    "top_path = \"string_cropped.pdb\"\n",
    "\n",
    "analyzer = cvs.MDs()\n",
    "labels = analyzer.label_simulations(top_path,\n",
    "                                    dcd_path,\n",
    "                                    [[\"index 3824\", \"index 1\"],\n",
    "                                     [\"index 4251\", \"index 6\"]],\n",
    "                                    10, 5, plotting=True)\n",
    "\n",
    "print(labels)"
   ],
   "metadata": {
    "collapsed": false,
    "pycharm": {
     "name": "#%%\n"
    }
   }
  },
  {
   "cell_type": "code",
   "execution_count": null,
   "outputs": [],
   "source": [
    "CV_system = cvs.CVs(top_path)\n",
    "CV_system.define_variables(\"bubble_ligand\")\n",
    "\n",
    "analyzer = cvs.MDs()\n",
    "CVs_from_bubble = analyzer.calculate_CVs(CV_system, dcd_path)"
   ],
   "metadata": {
    "collapsed": false,
    "pycharm": {
     "name": "#%%\n"
    }
   }
  },
  {
   "cell_type": "code",
   "execution_count": null,
   "outputs": [],
   "source": [
    "traj = 0 #We only have 1 traj\n",
    "CV = 1 #Select a CV to plot\n",
    "\n",
    "dists = np.array(CVs_from_bubble[traj]).T\n",
    "\n",
    "plt.plot(dists[CV])\n",
    "plt.show()\n"
   ],
   "metadata": {
    "collapsed": false,
    "pycharm": {
     "name": "#%%\n"
    }
   }
  },
  {
   "cell_type": "code",
   "execution_count": null,
   "outputs": [],
   "source": [
    "\n"
   ],
   "metadata": {
    "collapsed": false,
    "pycharm": {
     "name": "#%%\n"
    }
   }
  },
  {
   "cell_type": "code",
   "execution_count": null,
   "outputs": [],
   "source": [],
   "metadata": {
    "collapsed": false,
    "pycharm": {
     "name": "#%%\n"
    }
   }
  },
  {
   "cell_type": "code",
   "execution_count": null,
   "outputs": [],
   "source": [],
   "metadata": {
    "collapsed": false,
    "pycharm": {
     "name": "#%%\n"
    }
   }
  },
  {
   "cell_type": "code",
   "execution_count": null,
   "outputs": [],
   "source": [],
   "metadata": {
    "collapsed": false,
    "pycharm": {
     "name": "#%%\n"
    }
   }
  }
 ],
 "metadata": {
  "kernelspec": {
   "display_name": "Python 3",
   "language": "python",
   "name": "python3"
  },
  "language_info": {
   "codemirror_mode": {
    "name": "ipython",
    "version": 2
   },
   "file_extension": ".py",
   "mimetype": "text/x-python",
   "name": "python",
   "nbconvert_exporter": "python",
   "pygments_lexer": "ipython2",
   "version": "2.7.6"
  }
 },
 "nbformat": 4,
 "nbformat_minor": 0
}